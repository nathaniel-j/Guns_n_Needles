{
 "cells": [
  {
   "cell_type": "markdown",
   "id": "4b7ff4fd",
   "metadata": {},
   "source": [
    "# Gun Ownership and Covid Vaccination \n",
    "\n",
    "#### *AKA: Guns N Needles*\n",
    "\n",
    "\n",
    "For this project, I will be looking into a relationship between gun ownership and Covid vaccination rates. The rationale behind this project is that I am trying to identify a proxy characteristic to predict the likelyhood of someone deciding to get the Covid vaccine or not. Through anecdotal experiences, I found that people I knew that chose to **not** get vaccinated did so with an independent spirit, with the mindset that the individual is responsible for their own health, not the collective. Likewise, I have anecdotal experiences with people that decided to purchase a firearm with similar logic, they held that the individual is responsible for their personal safety, and that the individual should not rely on the collective approach alone. Conversely, I have found that people that chose to get vaccinated often did so from sense of duty to the community, with the mindset that it is the responsibility of the individual to contribute to the collective, not for themselves alone. Similarly, I have encountered many people that have made the decision to not own a firearm because they believe in the collective approach to providing personal safety. Remarkably, while both gun ownership and the Covid vaccine tend to be controversial and polarizing topics, I have found that people on either side of both debates seem to agree with the logic that I am putting forward to connect these issues. However, here are a few obvious exceptions to this pattern:\n",
    "\n",
    "- some people buy guns for reasons other than personal safety (i.e. hunting or sport shooting)\n",
    "- some people that believe in guns for personal safety dont have them (i.e. too expensive, blocked from legal ownership)\n",
    "- some people that dont believe in getting the Covid vaccine did so anyway (i.e. employment requirement, family request)\n",
    "- some people that believe in the vaccine have not gotten it (i.e. health concerns, lack of availability)\n",
    "\n",
    "With this project **I am not attempting to convice people to change their ideas or behavior**, rather I am trying to identify a hidden belief system that seems to influence people's idea and behavioral patterns. Understanding these belief systems could be useful for facilitating better discussion about these and other issues. "
   ]
  },
  {
   "cell_type": "markdown",
   "id": "81778161",
   "metadata": {},
   "source": [
    "### Data Sources\n",
    "---\n",
    "gun ownership rates data available [here](https://worldpopulationreview.com/state-rankings/gun-ownership-by-state)\n",
    "downloadable as a csv or json file\n",
    "\n",
    "state vaccination rates data available [here](https://github.com/owid/covid-19-data/tree/master/public/data/vaccinations)\n",
    "as a csv file called \"us_state_vaccinations.csv\"\n",
    "\n"
   ]
  },
  {
   "cell_type": "markdown",
   "id": "8c2c51d7",
   "metadata": {},
   "source": [
    "## Getting The Data in Place\n",
    "\n",
    "Here I am importing the two data sets linked above and assembling them into one pandas dataframe to work with. The vaccincation data set is very large and updated regularly for use with time series plotting, but I am only interested in the latest available data for the 50 US states so I select the data for the current date and drop the non-relevant locations. I only had to do a little transformation to get the data into the shape that I wanted. The gun ownership dataset was even more straight forward, but to combine the two I ran into an issue where one set used the label \"New York State\" and the other just \"New York\". To get around this I just sorted both sets alphabetically and merged them. I also wrote a function to categorize each state as high or low rates of gun ownership (based on above or below the group mean) to add a categorical lens to the data. "
   ]
  },
  {
   "cell_type": "code",
   "execution_count": 1,
   "id": "b076bd5e",
   "metadata": {},
   "outputs": [],
   "source": [
    "# import libraries\n",
    "import datetime as dt\n",
    "import pandas as pd\n",
    "import matplotlib.pyplot as plt\n",
    "import numpy as np\n",
    "import seaborn as sns\n",
    "\n",
    "%matplotlib inline"
   ]
  },
  {
   "cell_type": "code",
   "execution_count": 2,
   "id": "8d6e0101",
   "metadata": {},
   "outputs": [],
   "source": [
    "# set pandas display options\n",
    "pd.set_option('display.max_colwidth', None)\n",
    "pd.set_option('display.max_rows', 500)\n",
    "pd.set_option('display.max_columns', 500)\n",
    "pd.set_option('display.width', 1000)\n"
   ]
  },
  {
   "cell_type": "code",
   "execution_count": 3,
   "id": "6ee36d39",
   "metadata": {},
   "outputs": [],
   "source": [
    "# set visualization theme\n",
    "sns.set_theme(\n",
    "    context='notebook',\n",
    "    style='darkgrid', \n",
    "    palette='deep',\n",
    "    font='sans-serif',\n",
    "    font_scale=1.3,\n",
    "    color_codes=True,\n",
    "    rc=None\n",
    ")\n"
   ]
  },
  {
   "cell_type": "markdown",
   "id": "c7924efe",
   "metadata": {},
   "source": [
    "### Vaccination Data Set"
   ]
  },
  {
   "cell_type": "code",
   "execution_count": 4,
   "id": "13fe62a0",
   "metadata": {
    "scrolled": false
   },
   "outputs": [
    {
     "data": {
      "text/html": [
       "<div>\n",
       "<style scoped>\n",
       "    .dataframe tbody tr th:only-of-type {\n",
       "        vertical-align: middle;\n",
       "    }\n",
       "\n",
       "    .dataframe tbody tr th {\n",
       "        vertical-align: top;\n",
       "    }\n",
       "\n",
       "    .dataframe thead th {\n",
       "        text-align: right;\n",
       "    }\n",
       "</style>\n",
       "<table border=\"1\" class=\"dataframe\">\n",
       "  <thead>\n",
       "    <tr style=\"text-align: right;\">\n",
       "      <th></th>\n",
       "      <th>date</th>\n",
       "      <th>location</th>\n",
       "      <th>total_vaccinations</th>\n",
       "      <th>total_distributed</th>\n",
       "      <th>people_vaccinated</th>\n",
       "      <th>people_fully_vaccinated_per_hundred</th>\n",
       "      <th>total_vaccinations_per_hundred</th>\n",
       "      <th>people_fully_vaccinated</th>\n",
       "      <th>people_vaccinated_per_hundred</th>\n",
       "      <th>distributed_per_hundred</th>\n",
       "      <th>daily_vaccinations_raw</th>\n",
       "      <th>daily_vaccinations</th>\n",
       "      <th>daily_vaccinations_per_million</th>\n",
       "      <th>share_doses_used</th>\n",
       "    </tr>\n",
       "  </thead>\n",
       "  <tbody>\n",
       "    <tr>\n",
       "      <th>0</th>\n",
       "      <td>2021-01-12</td>\n",
       "      <td>Alabama</td>\n",
       "      <td>78134.0</td>\n",
       "      <td>377025.0</td>\n",
       "      <td>70861.0</td>\n",
       "      <td>0.15</td>\n",
       "      <td>1.59</td>\n",
       "      <td>7270.0</td>\n",
       "      <td>1.45</td>\n",
       "      <td>7.69</td>\n",
       "      <td>NaN</td>\n",
       "      <td>NaN</td>\n",
       "      <td>NaN</td>\n",
       "      <td>0.207</td>\n",
       "    </tr>\n",
       "  </tbody>\n",
       "</table>\n",
       "</div>"
      ],
      "text/plain": [
       "         date location  total_vaccinations  total_distributed  people_vaccinated  people_fully_vaccinated_per_hundred  total_vaccinations_per_hundred  people_fully_vaccinated  people_vaccinated_per_hundred  distributed_per_hundred  daily_vaccinations_raw  daily_vaccinations  daily_vaccinations_per_million  share_doses_used\n",
       "0  2021-01-12  Alabama             78134.0           377025.0            70861.0                                 0.15                            1.59                   7270.0                           1.45                     7.69                     NaN                 NaN                             NaN             0.207"
      ]
     },
     "execution_count": 4,
     "metadata": {},
     "output_type": "execute_result"
    }
   ],
   "source": [
    "# importing vaccination data\n",
    "raw_vax = pd.read_csv('us_state_vaccinations.csv')\n",
    "raw_vax.head(1)"
   ]
  },
  {
   "cell_type": "code",
   "execution_count": 44,
   "id": "282032f8",
   "metadata": {},
   "outputs": [
    {
     "data": {
      "text/html": [
       "<div>\n",
       "<style scoped>\n",
       "    .dataframe tbody tr th:only-of-type {\n",
       "        vertical-align: middle;\n",
       "    }\n",
       "\n",
       "    .dataframe tbody tr th {\n",
       "        vertical-align: top;\n",
       "    }\n",
       "\n",
       "    .dataframe thead th {\n",
       "        text-align: right;\n",
       "    }\n",
       "</style>\n",
       "<table border=\"1\" class=\"dataframe\">\n",
       "  <thead>\n",
       "    <tr style=\"text-align: right;\">\n",
       "      <th></th>\n",
       "      <th>location</th>\n",
       "      <th>people_fully_vaccinated_per_hundred</th>\n",
       "      <th>population</th>\n",
       "      <th>people_fully_vaccinated</th>\n",
       "    </tr>\n",
       "  </thead>\n",
       "  <tbody>\n",
       "    <tr>\n",
       "      <th>0</th>\n",
       "      <td>Alabama</td>\n",
       "      <td>43.42</td>\n",
       "      <td>4903099</td>\n",
       "      <td>2128926.0</td>\n",
       "    </tr>\n",
       "    <tr>\n",
       "      <th>1</th>\n",
       "      <td>Alaska</td>\n",
       "      <td>51.17</td>\n",
       "      <td>731606</td>\n",
       "      <td>374363.0</td>\n",
       "    </tr>\n",
       "    <tr>\n",
       "      <th>2</th>\n",
       "      <td>Arizona</td>\n",
       "      <td>51.77</td>\n",
       "      <td>7278566</td>\n",
       "      <td>3768114.0</td>\n",
       "    </tr>\n",
       "    <tr>\n",
       "      <th>3</th>\n",
       "      <td>Arkansas</td>\n",
       "      <td>46.32</td>\n",
       "      <td>3017549</td>\n",
       "      <td>1397729.0</td>\n",
       "    </tr>\n",
       "    <tr>\n",
       "      <th>4</th>\n",
       "      <td>California</td>\n",
       "      <td>59.75</td>\n",
       "      <td>39509390</td>\n",
       "      <td>23606861.0</td>\n",
       "    </tr>\n",
       "  </tbody>\n",
       "</table>\n",
       "</div>"
      ],
      "text/plain": [
       "     location  people_fully_vaccinated_per_hundred  population  people_fully_vaccinated\n",
       "0     Alabama                                43.42     4903099                2128926.0\n",
       "1      Alaska                                51.17      731606                 374363.0\n",
       "2     Arizona                                51.77     7278566                3768114.0\n",
       "3    Arkansas                                46.32     3017549                1397729.0\n",
       "4  California                                59.75    39509390               23606861.0"
      ]
     },
     "execution_count": 44,
     "metadata": {},
     "output_type": "execute_result"
    }
   ],
   "source": [
    "# selecting only US states\n",
    "drop = ['Veterans Health', 'Virgin Islands', 'United States', 'Republic of Palau', 'Puerto Rico', \n",
    "        'Northern Mariana Islands', 'Marshall Islands', 'Indian Health Svc', 'Guam', 'Dept of Defense',\n",
    "        'District of Columbia', 'Federated States of Micronesia', 'Bureau of Prisons', 'American Samoa']\n",
    "\n",
    "# selecting for currents date\n",
    "mask = raw_vax['date'] >= '2021-10-09'\n",
    "vax = raw_vax[mask].copy()\n",
    "\n",
    "mask = vax['location'].isin(drop)\n",
    "\n",
    "vax.drop(vax.loc[mask,:].index, axis=0, inplace=True)\n",
    "vax.reset_index(drop=True, inplace=True)\n",
    "# adding state population\n",
    "vax['population'] = (\n",
    "                        (vax['people_fully_vaccinated']) / \n",
    "                        (vax['people_fully_vaccinated_per_hundred'] / 100)\n",
    "                    ).astype(int)\n",
    "\n",
    "# selecting columns\n",
    "vaxed = vax[['location','people_fully_vaccinated_per_hundred', 'population', 'people_fully_vaccinated']].copy()\n",
    "vaxed.head()\n",
    "   "
   ]
  },
  {
   "cell_type": "code",
   "execution_count": 46,
   "id": "f47fe67f",
   "metadata": {},
   "outputs": [
    {
     "data": {
      "text/html": [
       "<div>\n",
       "<style scoped>\n",
       "    .dataframe tbody tr th:only-of-type {\n",
       "        vertical-align: middle;\n",
       "    }\n",
       "\n",
       "    .dataframe tbody tr th {\n",
       "        vertical-align: top;\n",
       "    }\n",
       "\n",
       "    .dataframe thead th {\n",
       "        text-align: right;\n",
       "    }\n",
       "</style>\n",
       "<table border=\"1\" class=\"dataframe\">\n",
       "  <thead>\n",
       "    <tr style=\"text-align: right;\">\n",
       "      <th></th>\n",
       "      <th>location</th>\n",
       "      <th>people_fully_vaccinated_per_hundred</th>\n",
       "      <th>population</th>\n",
       "      <th>people_fully_vaccinated</th>\n",
       "      <th>% unvaccinated</th>\n",
       "      <th>people_unvaccinated</th>\n",
       "    </tr>\n",
       "  </thead>\n",
       "  <tbody>\n",
       "    <tr>\n",
       "      <th>0</th>\n",
       "      <td>Alabama</td>\n",
       "      <td>43.42</td>\n",
       "      <td>4903099</td>\n",
       "      <td>2128926.0</td>\n",
       "      <td>56.58</td>\n",
       "      <td>2774173.0</td>\n",
       "    </tr>\n",
       "    <tr>\n",
       "      <th>1</th>\n",
       "      <td>Alaska</td>\n",
       "      <td>51.17</td>\n",
       "      <td>731606</td>\n",
       "      <td>374363.0</td>\n",
       "      <td>48.83</td>\n",
       "      <td>357243.0</td>\n",
       "    </tr>\n",
       "    <tr>\n",
       "      <th>2</th>\n",
       "      <td>Arizona</td>\n",
       "      <td>51.77</td>\n",
       "      <td>7278566</td>\n",
       "      <td>3768114.0</td>\n",
       "      <td>48.23</td>\n",
       "      <td>3510452.0</td>\n",
       "    </tr>\n",
       "  </tbody>\n",
       "</table>\n",
       "</div>"
      ],
      "text/plain": [
       "  location  people_fully_vaccinated_per_hundred  population  people_fully_vaccinated  % unvaccinated  people_unvaccinated\n",
       "0  Alabama                                43.42     4903099                2128926.0           56.58            2774173.0\n",
       "1   Alaska                                51.17      731606                 374363.0           48.83             357243.0\n",
       "2  Arizona                                51.77     7278566                3768114.0           48.23            3510452.0"
      ]
     },
     "execution_count": 46,
     "metadata": {},
     "output_type": "execute_result"
    }
   ],
   "source": [
    "# adding columns\n",
    "vaxed['% unvaccinated'] = 100 - vaxed['people_fully_vaccinated_per_hundred']\n",
    "vaxed['people_unvaccinated'] = vaxed['population'] - vaxed['people_fully_vaccinated']\n",
    "\n",
    "vaxed.head(3)"
   ]
  },
  {
   "cell_type": "markdown",
   "id": "1b68a760",
   "metadata": {},
   "source": [
    "Vaccination data set ready to roll\n"
   ]
  },
  {
   "cell_type": "markdown",
   "id": "5b2d5452",
   "metadata": {},
   "source": [
    "### Gun Ownership Data Set"
   ]
  },
  {
   "cell_type": "code",
   "execution_count": 49,
   "id": "e142e1a3",
   "metadata": {},
   "outputs": [
    {
     "data": {
      "text/html": [
       "<div>\n",
       "<style scoped>\n",
       "    .dataframe tbody tr th:only-of-type {\n",
       "        vertical-align: middle;\n",
       "    }\n",
       "\n",
       "    .dataframe tbody tr th {\n",
       "        vertical-align: top;\n",
       "    }\n",
       "\n",
       "    .dataframe thead th {\n",
       "        text-align: right;\n",
       "    }\n",
       "</style>\n",
       "<table border=\"1\" class=\"dataframe\">\n",
       "  <thead>\n",
       "    <tr style=\"text-align: right;\">\n",
       "      <th></th>\n",
       "      <th>State</th>\n",
       "      <th>gunOwnership</th>\n",
       "      <th>totalGuns</th>\n",
       "    </tr>\n",
       "  </thead>\n",
       "  <tbody>\n",
       "    <tr>\n",
       "      <th>0</th>\n",
       "      <td>New Jersey</td>\n",
       "      <td>0.147</td>\n",
       "      <td>57505</td>\n",
       "    </tr>\n",
       "    <tr>\n",
       "      <th>1</th>\n",
       "      <td>Massachusetts</td>\n",
       "      <td>0.147</td>\n",
       "      <td>37152</td>\n",
       "    </tr>\n",
       "    <tr>\n",
       "      <th>2</th>\n",
       "      <td>Rhode Island</td>\n",
       "      <td>0.148</td>\n",
       "      <td>4223</td>\n",
       "    </tr>\n",
       "  </tbody>\n",
       "</table>\n",
       "</div>"
      ],
      "text/plain": [
       "           State  gunOwnership  totalGuns\n",
       "0     New Jersey         0.147      57505\n",
       "1  Massachusetts         0.147      37152\n",
       "2   Rhode Island         0.148       4223"
      ]
     },
     "execution_count": 49,
     "metadata": {},
     "output_type": "execute_result"
    }
   ],
   "source": [
    "# uploading gun owner data\n",
    "guns = pd.read_csv('gun_owner_percent_by_state.csv')\n",
    "\n",
    "# reordering alpahbetically to resolve \"new york\"/\"new york state\" conflict\n",
    "shooters = guns.sort_values('State').reset_index(drop=True)\n",
    "\n",
    "guns.head(3)"
   ]
  },
  {
   "cell_type": "markdown",
   "id": "34288da6",
   "metadata": {},
   "source": [
    "### Combining Data Sets"
   ]
  },
  {
   "cell_type": "code",
   "execution_count": 51,
   "id": "ffef6679",
   "metadata": {},
   "outputs": [
    {
     "data": {
      "text/html": [
       "<div>\n",
       "<style scoped>\n",
       "    .dataframe tbody tr th:only-of-type {\n",
       "        vertical-align: middle;\n",
       "    }\n",
       "\n",
       "    .dataframe tbody tr th {\n",
       "        vertical-align: top;\n",
       "    }\n",
       "\n",
       "    .dataframe thead th {\n",
       "        text-align: right;\n",
       "    }\n",
       "</style>\n",
       "<table border=\"1\" class=\"dataframe\">\n",
       "  <thead>\n",
       "    <tr style=\"text-align: right;\">\n",
       "      <th></th>\n",
       "      <th>location</th>\n",
       "      <th>people_fully_vaccinated_per_hundred</th>\n",
       "      <th>population</th>\n",
       "      <th>people_fully_vaccinated</th>\n",
       "      <th>% unvaccinated</th>\n",
       "      <th>people_unvaccinated</th>\n",
       "      <th>% gun owners</th>\n",
       "      <th>total guns</th>\n",
       "    </tr>\n",
       "  </thead>\n",
       "  <tbody>\n",
       "    <tr>\n",
       "      <th>0</th>\n",
       "      <td>Alabama</td>\n",
       "      <td>43.42</td>\n",
       "      <td>4903099</td>\n",
       "      <td>2128926.0</td>\n",
       "      <td>56.58</td>\n",
       "      <td>2774173.0</td>\n",
       "      <td>55.5</td>\n",
       "      <td>161641</td>\n",
       "    </tr>\n",
       "    <tr>\n",
       "      <th>1</th>\n",
       "      <td>Alaska</td>\n",
       "      <td>51.17</td>\n",
       "      <td>731606</td>\n",
       "      <td>374363.0</td>\n",
       "      <td>48.83</td>\n",
       "      <td>357243.0</td>\n",
       "      <td>64.5</td>\n",
       "      <td>15824</td>\n",
       "    </tr>\n",
       "    <tr>\n",
       "      <th>2</th>\n",
       "      <td>Arizona</td>\n",
       "      <td>51.77</td>\n",
       "      <td>7278566</td>\n",
       "      <td>3768114.0</td>\n",
       "      <td>48.23</td>\n",
       "      <td>3510452.0</td>\n",
       "      <td>46.3</td>\n",
       "      <td>179738</td>\n",
       "    </tr>\n",
       "    <tr>\n",
       "      <th>3</th>\n",
       "      <td>Arkansas</td>\n",
       "      <td>46.32</td>\n",
       "      <td>3017549</td>\n",
       "      <td>1397729.0</td>\n",
       "      <td>53.68</td>\n",
       "      <td>1619820.0</td>\n",
       "      <td>57.2</td>\n",
       "      <td>79841</td>\n",
       "    </tr>\n",
       "    <tr>\n",
       "      <th>4</th>\n",
       "      <td>California</td>\n",
       "      <td>59.75</td>\n",
       "      <td>39509390</td>\n",
       "      <td>23606861.0</td>\n",
       "      <td>40.25</td>\n",
       "      <td>15902529.0</td>\n",
       "      <td>28.3</td>\n",
       "      <td>344622</td>\n",
       "    </tr>\n",
       "  </tbody>\n",
       "</table>\n",
       "</div>"
      ],
      "text/plain": [
       "     location  people_fully_vaccinated_per_hundred  population  people_fully_vaccinated  % unvaccinated  people_unvaccinated  % gun owners  total guns\n",
       "0     Alabama                                43.42     4903099                2128926.0           56.58            2774173.0          55.5      161641\n",
       "1      Alaska                                51.17      731606                 374363.0           48.83             357243.0          64.5       15824\n",
       "2     Arizona                                51.77     7278566                3768114.0           48.23            3510452.0          46.3      179738\n",
       "3    Arkansas                                46.32     3017549                1397729.0           53.68            1619820.0          57.2       79841\n",
       "4  California                                59.75    39509390               23606861.0           40.25           15902529.0          28.3      344622"
      ]
     },
     "execution_count": 51,
     "metadata": {},
     "output_type": "execute_result"
    }
   ],
   "source": [
    "# adding gun owner data to vaccination data set\n",
    "vaxed['% gun owners'] = shooters['gunOwnership']*100\n",
    "vaxed['total guns'] = shooters['totalGuns']\n",
    "\n",
    "vaxed.head()"
   ]
  },
  {
   "cell_type": "code",
   "execution_count": 52,
   "id": "7eef780a",
   "metadata": {
    "scrolled": true
   },
   "outputs": [
    {
     "data": {
      "text/html": [
       "<div>\n",
       "<style scoped>\n",
       "    .dataframe tbody tr th:only-of-type {\n",
       "        vertical-align: middle;\n",
       "    }\n",
       "\n",
       "    .dataframe tbody tr th {\n",
       "        vertical-align: top;\n",
       "    }\n",
       "\n",
       "    .dataframe thead th {\n",
       "        text-align: right;\n",
       "    }\n",
       "</style>\n",
       "<table border=\"1\" class=\"dataframe\">\n",
       "  <thead>\n",
       "    <tr style=\"text-align: right;\">\n",
       "      <th></th>\n",
       "      <th>location</th>\n",
       "      <th>people_fully_vaccinated_per_hundred</th>\n",
       "      <th>population</th>\n",
       "      <th>people_fully_vaccinated</th>\n",
       "      <th>% unvaccinated</th>\n",
       "      <th>people_unvaccinated</th>\n",
       "      <th>% gun owners</th>\n",
       "      <th>total guns</th>\n",
       "      <th>gun owners</th>\n",
       "      <th>non gun owners</th>\n",
       "    </tr>\n",
       "  </thead>\n",
       "  <tbody>\n",
       "    <tr>\n",
       "      <th>0</th>\n",
       "      <td>Vermont</td>\n",
       "      <td>70.15</td>\n",
       "      <td>624018</td>\n",
       "      <td>437749.0</td>\n",
       "      <td>29.85</td>\n",
       "      <td>186269.0</td>\n",
       "      <td>50.5</td>\n",
       "      <td>5872</td>\n",
       "      <td>315129</td>\n",
       "      <td>308889</td>\n",
       "    </tr>\n",
       "    <tr>\n",
       "      <th>1</th>\n",
       "      <td>Connecticut</td>\n",
       "      <td>69.41</td>\n",
       "      <td>3565515</td>\n",
       "      <td>2474824.0</td>\n",
       "      <td>30.59</td>\n",
       "      <td>1090691.0</td>\n",
       "      <td>23.6</td>\n",
       "      <td>82400</td>\n",
       "      <td>841461</td>\n",
       "      <td>2724054</td>\n",
       "    </tr>\n",
       "    <tr>\n",
       "      <th>2</th>\n",
       "      <td>Rhode Island</td>\n",
       "      <td>69.26</td>\n",
       "      <td>1059332</td>\n",
       "      <td>733694.0</td>\n",
       "      <td>30.74</td>\n",
       "      <td>325638.0</td>\n",
       "      <td>14.8</td>\n",
       "      <td>4223</td>\n",
       "      <td>156781</td>\n",
       "      <td>902551</td>\n",
       "    </tr>\n",
       "  </tbody>\n",
       "</table>\n",
       "</div>"
      ],
      "text/plain": [
       "       location  people_fully_vaccinated_per_hundred  population  people_fully_vaccinated  % unvaccinated  people_unvaccinated  % gun owners  total guns  gun owners  non gun owners\n",
       "0       Vermont                                70.15      624018                 437749.0           29.85             186269.0          50.5        5872      315129          308889\n",
       "1   Connecticut                                69.41     3565515                2474824.0           30.59            1090691.0          23.6       82400      841461         2724054\n",
       "2  Rhode Island                                69.26     1059332                 733694.0           30.74             325638.0          14.8        4223      156781          902551"
      ]
     },
     "execution_count": 52,
     "metadata": {},
     "output_type": "execute_result"
    }
   ],
   "source": [
    "# sorting dataframe by % unvaccinated\n",
    "v_ordered = vaxed.sort_values('% unvaccinated').reset_index(drop=True).copy()\n",
    "\n",
    "# adding columns\n",
    "v_ordered['gun owners'] = (v_ordered['population'] * (v_ordered['% gun owners'] / 100)).astype(int)\n",
    "v_ordered['non gun owners'] = (v_ordered['population'] - v_ordered['gun owners']).astype(int)\n",
    "v_ordered['% vaccinated'] = 100 - v_ordered[\"% unvaccinated\"]\n",
    "\n",
    "v_ordered.head(3)"
   ]
  },
  {
   "cell_type": "code",
   "execution_count": 151,
   "id": "8e4d028d",
   "metadata": {},
   "outputs": [
    {
     "data": {
      "text/html": [
       "<div>\n",
       "<style scoped>\n",
       "    .dataframe tbody tr th:only-of-type {\n",
       "        vertical-align: middle;\n",
       "    }\n",
       "\n",
       "    .dataframe tbody tr th {\n",
       "        vertical-align: top;\n",
       "    }\n",
       "\n",
       "    .dataframe thead th {\n",
       "        text-align: right;\n",
       "    }\n",
       "</style>\n",
       "<table border=\"1\" class=\"dataframe\">\n",
       "  <thead>\n",
       "    <tr style=\"text-align: right;\">\n",
       "      <th></th>\n",
       "      <th>location</th>\n",
       "      <th>people_fully_vaccinated_per_hundred</th>\n",
       "      <th>population</th>\n",
       "      <th>people_fully_vaccinated</th>\n",
       "      <th>% unvaccinated</th>\n",
       "      <th>people_unvaccinated</th>\n",
       "      <th>% gun owners</th>\n",
       "      <th>total guns</th>\n",
       "      <th>gun owners</th>\n",
       "      <th>non gun owners</th>\n",
       "      <th>state_type</th>\n",
       "      <th>% vaccinated</th>\n",
       "      <th>gun_type</th>\n",
       "      <th>population_type</th>\n",
       "      <th>Gun Rate</th>\n",
       "    </tr>\n",
       "  </thead>\n",
       "  <tbody>\n",
       "    <tr>\n",
       "      <th>0</th>\n",
       "      <td>Vermont</td>\n",
       "      <td>70.15</td>\n",
       "      <td>624018</td>\n",
       "      <td>437749.0</td>\n",
       "      <td>29.85</td>\n",
       "      <td>186269.0</td>\n",
       "      <td>50.5</td>\n",
       "      <td>5872</td>\n",
       "      <td>315129</td>\n",
       "      <td>308889</td>\n",
       "      <td>low_population</td>\n",
       "      <td>70.15</td>\n",
       "      <td>High Gun Ownership</td>\n",
       "      <td>low_population</td>\n",
       "      <td>High Gun Ownership</td>\n",
       "    </tr>\n",
       "    <tr>\n",
       "      <th>1</th>\n",
       "      <td>Connecticut</td>\n",
       "      <td>69.41</td>\n",
       "      <td>3565515</td>\n",
       "      <td>2474824.0</td>\n",
       "      <td>30.59</td>\n",
       "      <td>1090691.0</td>\n",
       "      <td>23.6</td>\n",
       "      <td>82400</td>\n",
       "      <td>841461</td>\n",
       "      <td>2724054</td>\n",
       "      <td>low_population</td>\n",
       "      <td>69.41</td>\n",
       "      <td>Low Gun Ownership</td>\n",
       "      <td>low_population</td>\n",
       "      <td>Low Gun Ownership</td>\n",
       "    </tr>\n",
       "    <tr>\n",
       "      <th>2</th>\n",
       "      <td>Rhode Island</td>\n",
       "      <td>69.26</td>\n",
       "      <td>1059332</td>\n",
       "      <td>733694.0</td>\n",
       "      <td>30.74</td>\n",
       "      <td>325638.0</td>\n",
       "      <td>14.8</td>\n",
       "      <td>4223</td>\n",
       "      <td>156781</td>\n",
       "      <td>902551</td>\n",
       "      <td>low_population</td>\n",
       "      <td>69.26</td>\n",
       "      <td>Low Gun Ownership</td>\n",
       "      <td>low_population</td>\n",
       "      <td>Low Gun Ownership</td>\n",
       "    </tr>\n",
       "    <tr>\n",
       "      <th>3</th>\n",
       "      <td>Maine</td>\n",
       "      <td>69.11</td>\n",
       "      <td>1344126</td>\n",
       "      <td>928926.0</td>\n",
       "      <td>30.89</td>\n",
       "      <td>415200.0</td>\n",
       "      <td>46.8</td>\n",
       "      <td>15371</td>\n",
       "      <td>629050</td>\n",
       "      <td>715076</td>\n",
       "      <td>low_population</td>\n",
       "      <td>69.11</td>\n",
       "      <td>High Gun Ownership</td>\n",
       "      <td>low_population</td>\n",
       "      <td>High Gun Ownership</td>\n",
       "    </tr>\n",
       "    <tr>\n",
       "      <th>4</th>\n",
       "      <td>Massachusetts</td>\n",
       "      <td>68.46</td>\n",
       "      <td>6892142</td>\n",
       "      <td>4718361.0</td>\n",
       "      <td>31.54</td>\n",
       "      <td>2173781.0</td>\n",
       "      <td>14.7</td>\n",
       "      <td>37152</td>\n",
       "      <td>1013144</td>\n",
       "      <td>5878998</td>\n",
       "      <td>low_population</td>\n",
       "      <td>68.46</td>\n",
       "      <td>Low Gun Ownership</td>\n",
       "      <td>high_population</td>\n",
       "      <td>Low Gun Ownership</td>\n",
       "    </tr>\n",
       "  </tbody>\n",
       "</table>\n",
       "</div>"
      ],
      "text/plain": [
       "        location  people_fully_vaccinated_per_hundred  population  people_fully_vaccinated  % unvaccinated  people_unvaccinated  % gun owners  total guns  gun owners  non gun owners      state_type  % vaccinated            gun_type  population_type            Gun Rate\n",
       "0        Vermont                                70.15      624018                 437749.0           29.85             186269.0          50.5        5872      315129          308889  low_population         70.15  High Gun Ownership   low_population  High Gun Ownership\n",
       "1    Connecticut                                69.41     3565515                2474824.0           30.59            1090691.0          23.6       82400      841461         2724054  low_population         69.41   Low Gun Ownership   low_population   Low Gun Ownership\n",
       "2   Rhode Island                                69.26     1059332                 733694.0           30.74             325638.0          14.8        4223      156781          902551  low_population         69.26   Low Gun Ownership   low_population   Low Gun Ownership\n",
       "3          Maine                                69.11     1344126                 928926.0           30.89             415200.0          46.8       15371      629050          715076  low_population         69.11  High Gun Ownership   low_population  High Gun Ownership\n",
       "4  Massachusetts                                68.46     6892142                4718361.0           31.54            2173781.0          14.7       37152     1013144         5878998  low_population         68.46   Low Gun Ownership  high_population   Low Gun Ownership"
      ]
     },
     "execution_count": 151,
     "metadata": {},
     "output_type": "execute_result"
    }
   ],
   "source": [
    "# adding state classifications for +- national average gun ownership rates\n",
    "def classify_guns(percent_gun_owners):\n",
    "    if percent_gun_owners >= v_ordered['% gun owners'].mean():\n",
    "        return 'High Gun Ownership'\n",
    "    else: return 'Low Gun Ownership'\n",
    "    \n",
    "# adding a classification for +- national average state populations\n",
    "def classify_pops(state_population):\n",
    "    if state_population >= v_ordered['population'].median():\n",
    "        return 'high_population'\n",
    "    else: return 'low_population'\n",
    "    \n",
    "v_ordered['Gun Rate'] = v_ordered['% gun owners'].apply(classify_guns)\n",
    "v_ordered['population_type'] = v_ordered['population'].apply(classify_pops)\n",
    "\n",
    "v_ordered.head()\n"
   ]
  },
  {
   "cell_type": "markdown",
   "id": "d5f22b6e",
   "metadata": {},
   "source": [
    "## Visualizing The Data\n",
    "I use a scatter plot to visualize the relationship between vaccination rates. I also added a regression line (using ordniary least squares) to add some directional context. The second chart is a kernal density estimation plot that shows the variance in vaccination rate distribution between states with above and below average gun ownership rates. "
   ]
  },
  {
   "cell_type": "code",
   "execution_count": 192,
   "id": "ded5a2d2",
   "metadata": {},
   "outputs": [
    {
     "data": {
      "image/png": "[encoded data removed]",
      "text/plain": [
       "<Figure size 1008x720 with 1 Axes>"
      ]
     },
     "metadata": {},
     "output_type": "display_data"
    }
   ],
   "source": [
    "plt.figure(figsize=(14,10))\n",
    "\n",
    "plt.scatter(v_ordered['% gun owners'], v_ordered['% vaccinated'], label='US States')\n",
    "\n",
    "# regression line for % gun owners\n",
    "y = v_ordered['% vaccinated']\n",
    "x = v_ordered['% gun owners']\n",
    "m, b = np.polyfit(x, y, 1)\n",
    "a = np.arange(10,80,1)\n",
    "plt.plot(a, m*a + b, color='green', label='Line of Best Fit')\n",
    "\n",
    "plt.xlim([0,100])\n",
    "plt.ylim([0,100])\n",
    "plt.ylabel('% Vaccincated')\n",
    "plt.xlabel('% That Own Guns')\n",
    "plt.title(\"Guns 'n Needles\", fontdict={'fontsize':30})\n",
    "plt.legend()\n",
    "\n",
    "plt.show()"
   ]
  },
  {
   "cell_type": "code",
   "execution_count": 195,
   "id": "7866aa14",
   "metadata": {},
   "outputs": [
    {
     "data": {
      "image/png": "[encoded data removed]",
      "text/plain": [
       "<Figure size 1336.48x576 with 1 Axes>"
      ]
     },
     "metadata": {},
     "output_type": "display_data"
    }
   ],
   "source": [
    "sns.displot(v_ordered, x=\"% vaccinated\", hue='Gun Rate', kind=\"kde\", fill=True, height=8, aspect=2)\n",
    "plt.title(\"Vaccinations Across Gun Rate Categories\", fontdict={'fontsize':30})\n",
    "plt.show()"
   ]
  },
  {
   "cell_type": "markdown",
   "id": "a58b756c",
   "metadata": {},
   "source": [
    "## Statistical Measures\n",
    "\n",
    "The first measures are the correlation coefficient and the r squared value. I used these measures to determine the level of relationship between gun ownership and vaccination rate. Here, the correlation coefficient tells us that gun ownership has a fairly strong negative relationship, and the r square value tells us that about 49% of the variation in vaccination rates can be attributed to a correlation with gun ownership. Important to remember that I am **not** trying to establish causality here, just showing that a strong correlation seems to exist. \n",
    "\n",
    "The second measures are t tests that I am using to show that there is a high improbability that relationship between gun ownership rates and vaccination rates is due to random chance rather than a real correlation. I'll go into these tests in more detail below."
   ]
  },
  {
   "cell_type": "code",
   "execution_count": 198,
   "id": "5e9e23b6",
   "metadata": {},
   "outputs": [
    {
     "name": "stdout",
     "output_type": "stream",
     "text": [
      "vaccinated mean = 45.17%\n",
      "Gun Ownership mean = 44.10%\n",
      "Vaccinated SS = 3175.28\n",
      "Gun Ownership SS = 8518.85\n",
      "Sum of products = -3622.95\n",
      "Sample Covariance = -73.93768857142858\n",
      "The r value, or correlation coefficient is -0.697\n",
      "The r square value is 0.485\n"
     ]
    }
   ],
   "source": [
    "# doing a Pearson r test to determine relationship between % unvaccinated and % gun owners\n",
    "\n",
    "data = v_ordered[['% vaccinated', '% gun owners']].copy()\n",
    "\n",
    "vax_mean = data['% vaccinated'].mean()\n",
    "guns_mean = data['% gun owners'].mean()\n",
    "\n",
    "print(f\"vaccinated mean = {unvax_mean:1.2f}%\")\n",
    "print(f\"Gun Ownership mean = {guns_mean:1.2f}%\")\n",
    "\n",
    "data['vax_variance'] = data['% vaccinated'] - vax_mean\n",
    "data['gun_variance'] = data['% gun owners'] - guns_mean\n",
    "\n",
    "data['vax_squared'] = data['vax_variance']**2\n",
    "data['gun_squared'] = data['gun_variance']**2\n",
    "\n",
    "vax_ss = data['vax_squared'].sum()\n",
    "gun_ss = data['gun_squared'].sum()\n",
    "\n",
    "print(f\"Vaccinated SS = {vax_ss:1.2f}\")\n",
    "print(f\"Gun Ownership SS = {gun_ss:1.2f}\")\n",
    "\n",
    "data['cross_products'] = data['vax_variance'] * data['gun_variance']\n",
    "\n",
    "sum_products = data['cross_products'].sum()\n",
    "print(f\"Sum of products = {sum_products:1.2f}\")\n",
    "\n",
    "sample_n = data['cross_products'].count() - 1\n",
    "\n",
    "sample_covariance = sum_products / sample_n\n",
    "print(f\"Sample Covariance = {sample_covariance}\")\n",
    "\n",
    "r = sum_products / (np.sqrt(vax_ss) * np.sqrt(gun_ss))\n",
    "print(f\"The r value, or correlation coefficient is {r:1.3f}\")\n",
    "\n",
    "print(f\"The r square value is {r**2:1.3f}\")"
   ]
  },
  {
   "cell_type": "markdown",
   "id": "28fdf6a4",
   "metadata": {},
   "source": [
    "# First T Test\n",
    "\n",
    "For the first t the states act as my samples and I am splitting them into two equal sized groups based on gun ownership rates. Then, I am comparing the distributions of the two group's vaccination rates to see how likely it is that the difference in vaccination rates between the two groups is due to random chance. \n",
    "\n",
    "For this test my null hypothesis is: \n",
    "- There is no difference in vaccination rates between states with gun ownership rates above 46% and states with gun ownership rates below 46%. \n",
    "\n",
    "For now, my alternative hypothesis is:\n",
    "- There is a difference in vaccination rates between states with gun ownership rates above 46% and states with gun ownership rates below 46%.\n",
    "\n",
    "I am setting my alpha at 5% and using the independant t test since the samples are two seperate groups. One other note is that the variance in vaccination rates is different between the two groups, so I will Welch's t test that does not assume equal variance. \n",
    "\n",
    "With the P value of .01% for this test well below the 5% threshold I set, I feel quite confident in discarding this null hypothesis and stating that there is a difference in vaccination rates between states with gun ownership rates above or below 46%."
   ]
  },
  {
   "cell_type": "code",
   "execution_count": 206,
   "id": "a442e676",
   "metadata": {},
   "outputs": [
    {
     "name": "stdout",
     "output_type": "stream",
     "text": [
      "'Gun State' variance:\n",
      "61.836358333333344\n",
      "\n",
      "'Non-Gun State' variance:\n",
      "33.79733766666667\n"
     ]
    }
   ],
   "source": [
    "# splitting the vaccinated data into gun owner and non gun owner states\n",
    "\n",
    "gun_owner_state_mask = v_ordered['% gun owners']>46\n",
    "non_go_state_mask = v_ordered['% gun owners']<= 46\n",
    "\n",
    "v_mean_go = v_ordered['% vaccinated'][gun_owner_state_mask].mean()\n",
    "v_mean_ngo = v_ordered['% vaccinated'][non_go_state_mask].mean()\n",
    "\n",
    "gun_dict = {\n",
    "    'gun states':v_ordered['% vaccinated'][gun_owner_state_mask].reset_index(drop=True),\n",
    "    'non gun states':v_ordered['% vaccinated'][non_go_state_mask].reset_index(drop=True),                \n",
    "}\n",
    "\n",
    "guns = pd.DataFrame(gun_dict)\n",
    "\n",
    "print(f\"'Gun State' variance:\\n{guns['gun states'].var()}\\n\")\n",
    "print(f\"'Non-Gun State' variance:\\n{guns['non gun states'].var()}\")\n"
   ]
  },
  {
   "cell_type": "code",
   "execution_count": 164,
   "id": "54336c76",
   "metadata": {},
   "outputs": [
    {
     "data": {
      "text/plain": [
       "-4.290104822066397"
      ]
     },
     "execution_count": 164,
     "metadata": {},
     "output_type": "execute_result"
    }
   ],
   "source": [
    "# Here I am calculating the test statistic longhand\n",
    "numerator = guns['gun states'].mean() - guns['non gun states'].mean()\n",
    "\n",
    "n1 = guns['gun states'].count()\n",
    "n2 = guns['non gun states'].count()\n",
    "\n",
    "s1 = guns['gun states'].var()\n",
    "s2 = guns['non gun states'].var()\n",
    "\n",
    "denominator = np.sqrt((((n1 - 1)*s1 + (n2 -1)*s2) / (n1 + n2 -2)) * ((n1 + n2) / (n1 * n2)))\n",
    "\n",
    "t = (numerator / denominator) \n",
    "\n",
    "t"
   ]
  },
  {
   "cell_type": "code",
   "execution_count": 208,
   "id": "2e66e47f",
   "metadata": {},
   "outputs": [
    {
     "name": "stdout",
     "output_type": "stream",
     "text": [
      "test statistic:-4.290104822066405\n",
      "\n",
      "P value:0.00957% \n"
     ]
    }
   ],
   "source": [
    "# Here I am using the scipy library to calculate the test statistic and and calculate the P value \n",
    "\n",
    "from scipy.stats import ttest_ind\n",
    "\n",
    "stat, pval = ttest_ind(guns['gun states'],guns['non gun states'], equal_var=False )\n",
    "\n",
    "print(f\"test statistic:{stat}\\n\\nP value:{pval*100:.5f}% \")"
   ]
  },
  {
   "cell_type": "markdown",
   "id": "5b88655a",
   "metadata": {},
   "source": [
    "## Second T Test\n",
    "\n",
    "Here I am comparing the gun ownership distribution to the vaccinated and unvaccinated distribution. I am still working on both these tests to ensure validity, but I wanted to include them for now anyway. Here we see a very low likelihood that the differences in vaccination rate and gun ownership are due to chance alone, but a very high likelihood that unvaccinated rates and gun ownership rates could be due to random chance. "
   ]
  },
  {
   "cell_type": "code",
   "execution_count": 210,
   "id": "b317338c",
   "metadata": {},
   "outputs": [
    {
     "name": "stdout",
     "output_type": "stream",
     "text": [
      "0.03347%\n",
      "43.07120%\n"
     ]
    }
   ],
   "source": [
    "from scipy.stats import ttest_rel\n",
    "\n",
    "stat, pval = ttest_rel(v_ordered['% gun owners'], v_ordered['% vaccinated'] )\n",
    "\n",
    "print(f\"{pval*100:.5f}%\")\n",
    "\n",
    "stat, pval = ttest_rel(v_ordered['% gun owners'], v_ordered['% unvaccinated'])\n",
    "\n",
    "print(f\"{pval*100:.5f}%\")"
   ]
  },
  {
   "cell_type": "markdown",
   "id": "fab33b0d",
   "metadata": {},
   "source": [
    "# ... Still In Progress\n",
    "\n",
    "Still to come\n",
    "- power test to determine likelyhood of alternative hypothesis\n",
    "- summary review\n",
    "- next steps"
   ]
  }
 ],
 "metadata": {
  "kernelspec": {
   "display_name": "Python 3",
   "language": "python",
   "name": "python3"
  },
  "language_info": {
   "codemirror_mode": {
    "name": "ipython",
    "version": 3
   },
   "file_extension": ".py",
   "mimetype": "text/x-python",
   "name": "python",
   "nbconvert_exporter": "python",
   "pygments_lexer": "ipython3",
   "version": "3.8.8"
  }
 },
 "nbformat": 4,
 "nbformat_minor": 5
}
